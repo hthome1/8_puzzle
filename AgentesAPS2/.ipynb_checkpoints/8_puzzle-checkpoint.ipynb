{
 "cells": [
  {
   "cell_type": "code",
   "execution_count": 1,
   "metadata": {},
   "outputs": [],
   "source": [
    "import numpy as np\n",
    "import copy"
   ]
  },
  {
   "cell_type": "code",
   "execution_count": 2,
   "metadata": {},
   "outputs": [],
   "source": [
    "CorrectPos = [[0,2,2],[1,1,1],[2,1,2],[3,1,3],[4,2,3],[5,3,3],[6,3,2],[7,3,1],[8,2,1]]"
   ]
  },
  {
   "cell_type": "code",
   "execution_count": 3,
   "metadata": {},
   "outputs": [],
   "source": [
    "def positionscore(estado):\n",
    "    i = 1\n",
    "    j = 1\n",
    "    score = 0\n",
    "    print(type(estado))\n",
    "    for linha in estado:\n",
    "        for coluna in linha:\n",
    "            score += abs(i - CorrectPos[coluna][1]) + abs(j - CorrectPos[coluna][2])\n",
    "            j+=1\n",
    "        i+=1\n",
    "        j=1\n",
    "\n",
    "    return score\n",
    "    "
   ]
  },
  {
   "cell_type": "markdown",
   "metadata": {},
   "source": [
    "### Find position of empty ok"
   ]
  },
  {
   "cell_type": "code",
   "execution_count": 4,
   "metadata": {},
   "outputs": [],
   "source": [
    "def FindEmpty(estado):\n",
    "    i = 0\n",
    "    j = 0\n",
    "    for linha in estado:\n",
    "        for coluna in linha:\n",
    "            if coluna == 0:\n",
    "                return i,j\n",
    "            j+=1\n",
    "\n",
    "        i+=1\n",
    "        j=0"
   ]
  },
  {
   "cell_type": "markdown",
   "metadata": {},
   "source": [
    "### Mudando as coisas de lugar ok"
   ]
  },
  {
   "cell_type": "code",
   "execution_count": 5,
   "metadata": {},
   "outputs": [],
   "source": [
    "estado = np.array([[0,2,3],[8,5,4],[7,6,1]])"
   ]
  },
  {
   "cell_type": "code",
   "execution_count": 6,
   "metadata": {},
   "outputs": [
    {
     "name": "stdout",
     "output_type": "stream",
     "text": [
      "[[8 2 3]\n",
      " [0 5 4]\n",
      " [7 6 1]]\n",
      "------------\n",
      "[[2 0 3]\n",
      " [8 5 4]\n",
      " [7 6 1]]\n",
      "-----------\n"
     ]
    }
   ],
   "source": [
    "i,j = FindEmpty(estado)\n",
    "\n",
    "if (i-1 >= 0):\n",
    "    alterado1 = copy.deepcopy(estado)\n",
    "    alterado1[i][j] = alterado1[i-1][j] \n",
    "    alterado1[i-1][j] = 0\n",
    "    print(alterado1)\n",
    "    print(\"-------------\")\n",
    "    \n",
    "if (i+1 <= 2):\n",
    "    alterado2 = copy.deepcopy(estado)\n",
    "    alterado2[i][j] = alterado2[i+1][j] \n",
    "    alterado2[i+1][j] = 0\n",
    "    print(alterado2)\n",
    "    print(\"------------\")\n",
    "if (j-1 >= 0):\n",
    "    alterado3 = copy.deepcopy(estado)\n",
    "    alterado3[i][j] = alterado3[i][j-1] \n",
    "    alterado3[i][j-1] = 0\n",
    "    print(alterado3)\n",
    "    print(\" -----------\")\n",
    "if (j+1 <= 2):\n",
    "    alterado4 = copy.deepcopy(estado)\n",
    "    alterado4[i][j] = alterado4[i][j+1] \n",
    "    alterado4[i][j+1] = 0\n",
    "    print(alterado4)\n",
    "    print(\"-----------\")\n",
    "    \n",
    "    "
   ]
  },
  {
   "cell_type": "code",
   "execution_count": 7,
   "metadata": {},
   "outputs": [],
   "source": [
    "final = np.array([[1,2,3],[8,0,4],[7,4,6]])"
   ]
  },
  {
   "cell_type": "code",
   "execution_count": 8,
   "metadata": {},
   "outputs": [],
   "source": [
    "final2 = np.array([[1,2,3],[8,0,4],[7,3,6]])"
   ]
  },
  {
   "cell_type": "code",
   "execution_count": 9,
   "metadata": {},
   "outputs": [],
   "source": [
    "if ((final == final2).all()):\n",
    "    print(\" s\")"
   ]
  },
  {
   "cell_type": "code",
   "execution_count": 10,
   "metadata": {},
   "outputs": [
    {
     "data": {
      "text/plain": [
       "array([[ True,  True,  True],\n",
       "       [ True,  True,  True],\n",
       "       [ True, False,  True]])"
      ]
     },
     "execution_count": 10,
     "metadata": {},
     "output_type": "execute_result"
    }
   ],
   "source": [
    "final == final2"
   ]
  },
  {
   "cell_type": "code",
   "execution_count": 11,
   "metadata": {},
   "outputs": [],
   "source": [
    "objetivo = np.array([[1,2,3],[8,0,4],[7,6,5]])"
   ]
  },
  {
   "cell_type": "code",
   "execution_count": 12,
   "metadata": {},
   "outputs": [],
   "source": [
    "dict = {\n",
    "    0:1,1:2,2:3,3:8,4:0,5:4,6:7,7:6,8:5\n",
    "}"
   ]
  },
  {
   "cell_type": "code",
   "execution_count": 13,
   "metadata": {},
   "outputs": [],
   "source": [
    "dict_invertido = {1:[0,0],2:[0,1],3:[0,2],4:[1,2],5:[2,2],6:[2,1],7:[2,0],8:[1,0],0:[1,1]}"
   ]
  },
  {
   "cell_type": "code",
   "execution_count": 14,
   "metadata": {},
   "outputs": [],
   "source": [
    "x = np.array([[1,0,3],[8,2,4],[7,6,5]])"
   ]
  },
  {
   "cell_type": "code",
   "execution_count": 15,
   "metadata": {},
   "outputs": [
    {
     "name": "stdout",
     "output_type": "stream",
     "text": [
      "2\n"
     ]
    }
   ],
   "source": [
    "count = 0\n",
    "score2 = 0\n",
    "for i in x:\n",
    "    for j in i:\n",
    "        valor = j #numero que esta sendo analisado\n",
    "        valor_certo = dict[count] # numero que deveria estar nessa posicao\n",
    "        if valor != valor_certo:\n",
    "            casa_certa_i = dict_invertido[valor][0]\n",
    "            casa_certa_j = dict_invertido[valor][1]\n",
    "            valor_casa = x[casa_certa_i][casa_certa_j]\n",
    "            if valor_certo == valor_casa:\n",
    "                score2 += 1\n",
    "        count+=1\n",
    "print(score2)"
   ]
  },
  {
   "cell_type": "code",
   "execution_count": 16,
   "metadata": {},
   "outputs": [
    {
     "data": {
      "text/plain": [
       "1"
      ]
     },
     "execution_count": 16,
     "metadata": {},
     "output_type": "execute_result"
    }
   ],
   "source": [
    "dict[0]"
   ]
  },
  {
   "cell_type": "code",
   "execution_count": 26,
   "metadata": {},
   "outputs": [],
   "source": [
    "objetivo = np.array([[1,2,3],[8,0,4],[7,6,5]])"
   ]
  },
  {
   "cell_type": "code",
   "execution_count": 27,
   "metadata": {},
   "outputs": [],
   "source": [
    "x = np.array([[1,2,3],[8,0,4],[7,6,5]])"
   ]
  },
  {
   "cell_type": "code",
   "execution_count": 28,
   "metadata": {},
   "outputs": [
    {
     "data": {
      "text/plain": [
       "True"
      ]
     },
     "execution_count": 28,
     "metadata": {},
     "output_type": "execute_result"
    }
   ],
   "source": [
    "np.array2string(objetivo) == np.array2string(x)"
   ]
  },
  {
   "cell_type": "code",
   "execution_count": 29,
   "metadata": {},
   "outputs": [],
   "source": [
    "lista = objetivo.flatten()"
   ]
  },
  {
   "cell_type": "code",
   "execution_count": 45,
   "metadata": {},
   "outputs": [
    {
     "data": {
      "text/plain": [
       "array([1, 2, 3, 8, 0, 4, 7, 6, 5])"
      ]
     },
     "execution_count": 45,
     "metadata": {},
     "output_type": "execute_result"
    }
   ],
   "source": [
    "lista"
   ]
  },
  {
   "cell_type": "code",
   "execution_count": 53,
   "metadata": {},
   "outputs": [],
   "source": [
    "dict_ideal = {1:0,2:1,3:2,8:3,0:4,4:5,7:6,6:7,5:8}"
   ]
  },
  {
   "cell_type": "code",
   "execution_count": 63,
   "metadata": {},
   "outputs": [
    {
     "name": "stdout",
     "output_type": "stream",
     "text": [
      "2 3\n",
      "2 8\n",
      "2 5\n",
      "2 0\n",
      "2 6\n",
      "2 7\n",
      "2 4\n",
      "3 8\n",
      "3 5\n",
      "3 0\n",
      "3 6\n",
      "3 7\n",
      "3 4\n",
      "8 5\n",
      "8 0\n",
      "8 6\n",
      "8 7\n",
      "8 4\n",
      "5 0\n",
      "5 6\n",
      "5 7\n",
      "5 4\n",
      "0 6\n",
      "0 7\n",
      "0 4\n",
      "6 7\n",
      "6 4\n",
      "7 4\n"
     ]
    }
   ],
   "source": [
    "scoraldo = 0\n",
    "for elemento in range(0,9):\n",
    "    for prox_elemento in range(elemento + 1, 9):\n",
    "        if lista[elemento] != 0 and lista[prox_elemento] != 0:\n",
    "            if  dict[lista[prox_elemento]] < dict[lista[elemento]]:\n",
    "                print(lista[elemento]\n",
    "                print(dict[lista[elemento]], dict[lista[prox_elemento]])\n",
    "                scoraldo += 1\n",
    "                      \n",
    "print(scoraldo)"
   ]
  },
  {
   "cell_type": "code",
   "execution_count": 64,
   "metadata": {},
   "outputs": [
    {
     "data": {
      "text/plain": [
       "17"
      ]
     },
     "execution_count": 64,
     "metadata": {},
     "output_type": "execute_result"
    }
   ],
   "source": [
    "score"
   ]
  },
  {
   "cell_type": "code",
   "execution_count": null,
   "metadata": {},
   "outputs": [],
   "source": []
  }
 ],
 "metadata": {
  "kernelspec": {
   "display_name": "Python 3",
   "language": "python",
   "name": "python3"
  },
  "language_info": {
   "codemirror_mode": {
    "name": "ipython",
    "version": 3
   },
   "file_extension": ".py",
   "mimetype": "text/x-python",
   "name": "python",
   "nbconvert_exporter": "python",
   "pygments_lexer": "ipython3",
   "version": "3.8.10"
  }
 },
 "nbformat": 4,
 "nbformat_minor": 4
}
